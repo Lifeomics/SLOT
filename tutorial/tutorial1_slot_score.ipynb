{
 "cells": [
  {
   "cell_type": "markdown",
   "metadata": {},
   "source": [
    "## Tutorial 1： data load and compute slot score"
   ]
  },
  {
   "cell_type": "markdown",
   "metadata": {},
   "source": [
    "Here we present our SLOT score analysis on the stage IV oocyte protein dataset.This tutorial demonstrates how to identify spatial polarity proteins at subcellular resolution. The processed data are available at [XenoSTAR](http://xenostar.ncpsb.org.cn)."
   ]
  },
  {
   "cell_type": "markdown",
   "metadata": {},
   "source": [
    "## Preparation"
   ]
  },
  {
   "cell_type": "code",
   "execution_count": 1,
   "metadata": {},
   "outputs": [],
   "source": [
    "import warnings\n",
    "warnings.filterwarnings(\"ignore\")\n",
    "import pandas as pd\n",
    "import numpy as np\n",
    "import scanpy as sc\n",
    "import matplotlib.pyplot as plt\n",
    "import os\n",
    "import sys"
   ]
  },
  {
   "cell_type": "code",
   "execution_count": 2,
   "metadata": {},
   "outputs": [],
   "source": [
    "import SLOT\n",
    "from SLOT import SLOT_model  "
   ]
  },
  {
   "cell_type": "code",
   "execution_count": 3,
   "metadata": {},
   "outputs": [],
   "source": [
    "adata = sc.read_h5ad('data/S4_Protein.h5ad')\n",
    "slot_adata = SLOT_model(adata)"
   ]
  },
  {
   "cell_type": "markdown",
   "metadata": {},
   "source": [
    "### Construct the Probability Matrix\n",
    "Next, construct the spatial probability matrix, which will be used in the SLOT score calculation. You can set the step size to define the granularity of the spatial binning:"
   ]
  },
  {
   "cell_type": "code",
   "execution_count": 4,
   "metadata": {},
   "outputs": [
    {
     "name": "stdout",
     "output_type": "stream",
     "text": [
      "Added spatial probability matrix to adata.varm\n"
     ]
    }
   ],
   "source": [
    "# Construct the probability matrix with a specified step size\n",
    "slot_adata.construct_prob_matrix(step=5)"
   ]
  },
  {
   "cell_type": "markdown",
   "metadata": {},
   "source": [
    "step=5: This parameter defines the step size for reducing the spatial resolution. Adjust the step size according to your data’s spatial resolution requirements. \n",
    "### Compute the SLOT Scores \n",
    "Finally, compute the SLOT scores. You can choose the distribution against which the spatial distribution is compared (default is uniform distribution), and whether to scale the scores (using expression level)."
   ]
  },
  {
   "cell_type": "code",
   "execution_count": 5,
   "metadata": {},
   "outputs": [
    {
     "name": "stdout",
     "output_type": "stream",
     "text": [
      "Added SLOT score to adata.var\n"
     ]
    }
   ],
   "source": [
    "# Compute the SLOT scores\n",
    "slot_adata.slot_metric(dist=\"uni\", scale=True)"
   ]
  },
  {
   "cell_type": "code",
   "execution_count": 6,
   "metadata": {},
   "outputs": [
    {
     "data": {
      "text/html": [
       "<div>\n",
       "<style scoped>\n",
       "    .dataframe tbody tr th:only-of-type {\n",
       "        vertical-align: middle;\n",
       "    }\n",
       "\n",
       "    .dataframe tbody tr th {\n",
       "        vertical-align: top;\n",
       "    }\n",
       "\n",
       "    .dataframe thead th {\n",
       "        text-align: right;\n",
       "    }\n",
       "</style>\n",
       "<table border=\"1\" class=\"dataframe\">\n",
       "  <thead>\n",
       "    <tr style=\"text-align: right;\">\n",
       "      <th></th>\n",
       "      <th>slot_score</th>\n",
       "      <th>slot_score_scale</th>\n",
       "    </tr>\n",
       "  </thead>\n",
       "  <tbody>\n",
       "    <tr>\n",
       "      <th>cyp2c8.1.L</th>\n",
       "      <td>0.479651</td>\n",
       "      <td>0.111138</td>\n",
       "    </tr>\n",
       "    <tr>\n",
       "      <th>clptm1l.S</th>\n",
       "      <td>0.226581</td>\n",
       "      <td>0.187775</td>\n",
       "    </tr>\n",
       "    <tr>\n",
       "      <th>supt16h.L</th>\n",
       "      <td>0.342564</td>\n",
       "      <td>0.170132</td>\n",
       "    </tr>\n",
       "    <tr>\n",
       "      <th>acer3.S</th>\n",
       "      <td>0.444209</td>\n",
       "      <td>0.102009</td>\n",
       "    </tr>\n",
       "    <tr>\n",
       "      <th>aldh3b2.L</th>\n",
       "      <td>0.120584</td>\n",
       "      <td>0.206828</td>\n",
       "    </tr>\n",
       "    <tr>\n",
       "      <th>...</th>\n",
       "      <td>...</td>\n",
       "      <td>...</td>\n",
       "    </tr>\n",
       "    <tr>\n",
       "      <th>immt.S</th>\n",
       "      <td>0.222261</td>\n",
       "      <td>0.336445</td>\n",
       "    </tr>\n",
       "    <tr>\n",
       "      <th>ranbp1.S</th>\n",
       "      <td>0.128084</td>\n",
       "      <td>0.283802</td>\n",
       "    </tr>\n",
       "    <tr>\n",
       "      <th>baz1a.L</th>\n",
       "      <td>0.339089</td>\n",
       "      <td>0.307904</td>\n",
       "    </tr>\n",
       "    <tr>\n",
       "      <th>gmps.L</th>\n",
       "      <td>0.081468</td>\n",
       "      <td>0.165108</td>\n",
       "    </tr>\n",
       "    <tr>\n",
       "      <th>krt7.S</th>\n",
       "      <td>0.019951</td>\n",
       "      <td>0.044477</td>\n",
       "    </tr>\n",
       "  </tbody>\n",
       "</table>\n",
       "<p>6506 rows × 2 columns</p>\n",
       "</div>"
      ],
      "text/plain": [
       "            slot_score  slot_score_scale\n",
       "cyp2c8.1.L    0.479651          0.111138\n",
       "clptm1l.S     0.226581          0.187775\n",
       "supt16h.L     0.342564          0.170132\n",
       "acer3.S       0.444209          0.102009\n",
       "aldh3b2.L     0.120584          0.206828\n",
       "...                ...               ...\n",
       "immt.S        0.222261          0.336445\n",
       "ranbp1.S      0.128084          0.283802\n",
       "baz1a.L       0.339089          0.307904\n",
       "gmps.L        0.081468          0.165108\n",
       "krt7.S        0.019951          0.044477\n",
       "\n",
       "[6506 rows x 2 columns]"
      ]
     },
     "execution_count": 6,
     "metadata": {},
     "output_type": "execute_result"
    }
   ],
   "source": [
    "slot_adata.adata.var"
   ]
  },
  {
   "cell_type": "markdown",
   "metadata": {},
   "source": [
    "After running the above steps, the SLOT scores and associated statistical data are stored within the AnnData object:\n",
    "\n",
    "•adata.var[\"slot_score\"]: Contains the computed SLOT scores for each protein/mRNA.\n",
    "\n",
    "•adata.var[\"slot_score_scale\"]: Contains the scaled SLOT scores (if scale=True was used)."
   ]
  },
  {
   "cell_type": "markdown",
   "metadata": {},
   "source": [
    "### plot"
   ]
  },
  {
   "cell_type": "code",
   "execution_count": 7,
   "metadata": {},
   "outputs": [
    {
     "data": {
      "image/png": "[encoded data removed]",
      "text/plain": [
       "<Figure size 400x400 with 2 Axes>"
      ]
     },
     "metadata": {},
     "output_type": "display_data"
    }
   ],
   "source": [
    "protein_name = 'cyp2c8.1.L'\n",
    "SLOT.plot.plot_2d(protein_name,adata,save_dir=None,dpi=300)"
   ]
  },
  {
   "cell_type": "code",
   "execution_count": 8,
   "metadata": {},
   "outputs": [
    {
     "data": {
      "image/png": "[encoded data removed]",
      "text/plain": [
       "<Figure size 400x400 with 2 Axes>"
      ]
     },
     "metadata": {},
     "output_type": "display_data"
    }
   ],
   "source": [
    "SLOT.plot.plot_3d(protein_name,adata,save_dir=None,dpi=300,elev=30,azim=225)"
   ]
  },
  {
   "cell_type": "code",
   "execution_count": null,
   "metadata": {},
   "outputs": [],
   "source": []
  }
 ],
 "metadata": {
  "kernelspec": {
   "display_name": "slot",
   "language": "python",
   "name": "python3"
  },
  "language_info": {
   "codemirror_mode": {
    "name": "ipython",
    "version": 3
   },
   "file_extension": ".py",
   "mimetype": "text/x-python",
   "name": "python",
   "nbconvert_exporter": "python",
   "pygments_lexer": "ipython3",
   "version": "3.12.9"
  }
 },
 "nbformat": 4,
 "nbformat_minor": 2
}
